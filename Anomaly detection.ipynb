{
 "cells": [
  {
   "cell_type": "code",
   "execution_count": 56,
   "outputs": [
    {
     "name": "stdout",
     "output_type": "stream",
     "text": [
      "(307, 2)\n"
     ]
    },
    {
     "data": {
      "text/plain": "<Figure size 432x288 with 1 Axes>",
      "image/png": "[encoded data removed]"
     },
     "metadata": {
      "needs_background": "light"
     },
     "output_type": "display_data"
    }
   ],
   "source": [
    "import numpy\n",
    "import numpy as np\n",
    "import pandas as pd\n",
    "import matplotlib.pyplot as plt\n",
    "from scipy.io import loadmat\n",
    "\n",
    "\n",
    "data = loadmat('ex8data1.mat')\n",
    "X = data['X']\n",
    "print(X.shape)\n",
    "plt.scatter(X[:,0], X[:,1])\n",
    "plt.grid()"
   ],
   "metadata": {
    "collapsed": false,
    "pycharm": {
     "name": "#%%\n"
    }
   }
  },
  {
   "cell_type": "code",
   "execution_count": 57,
   "outputs": [
    {
     "data": {
      "text/plain": "<Figure size 432x288 with 1 Axes>",
      "image/png": "[encoded data removed]"
     },
     "metadata": {
      "needs_background": "light"
     },
     "output_type": "display_data"
    },
    {
     "data": {
      "text/plain": "<Figure size 432x288 with 1 Axes>",
      "image/png": "[encoded data removed]"
     },
     "metadata": {
      "needs_background": "light"
     },
     "output_type": "display_data"
    }
   ],
   "source": [
    "titles = [\"throughput (mb/s)\", \"latency (ms)\"]\n",
    "for i in range(X.shape[1]):\n",
    "    plt.figure()\n",
    "    plt.hist(X[:, i])\n",
    "    plt.title(titles[i])\n",
    "    plt.grid()"
   ],
   "metadata": {
    "collapsed": false,
    "pycharm": {
     "name": "#%%\n"
    }
   }
  },
  {
   "cell_type": "code",
   "execution_count": 58,
   "outputs": [],
   "source": [
    "def estimate_gaussian(X):\n",
    "    mu = np.mean(X,axis=0)\n",
    "    sigma = np.std(X, axis=0)\n",
    "    return mu, sigma"
   ],
   "metadata": {
    "collapsed": false,
    "pycharm": {
     "name": "#%%\n"
    }
   }
  },
  {
   "cell_type": "code",
   "execution_count": 59,
   "outputs": [
    {
     "name": "stdout",
     "output_type": "stream",
     "text": [
      "(307, 2) (307, 1)\n"
     ]
    }
   ],
   "source": [
    "Xval = data['Xval']\n",
    "yval = data['yval']\n",
    "print(Xval.shape, yval.shape)"
   ],
   "metadata": {
    "collapsed": false,
    "pycharm": {
     "name": "#%%\n"
    }
   }
  },
  {
   "cell_type": "code",
   "execution_count": 60,
   "outputs": [
    {
     "name": "stdout",
     "output_type": "stream",
     "text": [
      "[14.11222578 14.99771051] [1.35374717 1.3075723 ]\n"
     ]
    }
   ],
   "source": [
    "from scipy import stats\n",
    "mu, sigma = estimate_gaussian(X)\n",
    "print(mu, sigma)\n",
    "pdf_s = []"
   ],
   "metadata": {
    "collapsed": false,
    "pycharm": {
     "name": "#%%\n"
    }
   }
  },
  {
   "cell_type": "code",
   "execution_count": 61,
   "outputs": [],
   "source": [
    "for i in range(X.shape[1]):\n",
    "    feature = X[0:50,i]\n",
    "    pdf = stats.norm.pdf(feature,loc = mu[i],scale=sigma[i])\n",
    "    pdf_s.append(pdf)"
   ],
   "metadata": {
    "collapsed": false,
    "pycharm": {
     "name": "#%% czy ok?\n"
    }
   }
  },
  {
   "cell_type": "code",
   "execution_count": 62,
   "outputs": [],
   "source": [
    "pval = np.zeros(Xval.shape)\n",
    "for i in range(Xval.shape[1]):\n",
    "    feature = Xval[:,i]\n",
    "    pval[:,i] = stats.norm.pdf(feature,loc = mu[i],scale=sigma[i])"
   ],
   "metadata": {
    "collapsed": false,
    "pycharm": {
     "name": "#%%\n"
    }
   }
  },
  {
   "cell_type": "code",
   "execution_count": 63,
   "outputs": [],
   "source": [
    "from sklearn.metrics import f1_score\n",
    "def select_threshold(pval, yval):\n",
    "    min_p = np.min(pval)\n",
    "    max_p = np.max(pval)\n",
    "    best_epsilon = 0\n",
    "    best_f1 = 0\n",
    "    selected = None\n",
    "    for epsilon in np.linspace(min_p, max_p, 1000):\n",
    "        select = np.where(pval<epsilon, True, False)\n",
    "        f1 = f1_score(yval, select)\n",
    "        if f1 > best_f1:\n",
    "            best_epsilon = epsilon\n",
    "            best_f1 = f1\n",
    "            selected = select\n",
    "    return best_epsilon, best_f1, selected"
   ],
   "metadata": {
    "collapsed": false,
    "pycharm": {
     "name": "#%% czy funkcja tylko dla jednej kolumny / cxzy można używać pval i yval razem?\n"
    }
   }
  },
  {
   "cell_type": "code",
   "execution_count": 65,
   "outputs": [
    {
     "name": "stdout",
     "output_type": "stream",
     "text": [
      "0.8\n",
      "0.6250000000000001\n"
     ]
    }
   ],
   "source": [
    "best_epsilons = []\n",
    "\n",
    "for i in range(Xval.shape[1]):\n",
    "    feature_p_val = pval[:,i]\n",
    "    best_epsilon, best_f1, selected = select_threshold(feature_p_val, yval)\n",
    "    print(best_f1)\n",
    "    best_epsilons.append(best_epsilon)"
   ],
   "metadata": {
    "collapsed": false,
    "pycharm": {
     "name": "#%% jak to narysować co od czego\n"
    }
   }
  },
  {
   "cell_type": "code",
   "execution_count": 91,
   "outputs": [
    {
     "name": "stdout",
     "output_type": "stream",
     "text": [
      "[0.0005899796186982346, 0.023210919211410812]\n"
     ]
    },
    {
     "data": {
      "text/plain": "<Figure size 432x288 with 1 Axes>",
      "image/png": "[encoded data removed]"
     },
     "metadata": {
      "needs_background": "light"
     },
     "output_type": "display_data"
    }
   ],
   "source": [
    "print(best_epsilons)\n",
    "pdfs0 = stats.norm.pdf(X[:,0],loc = mu[0],scale=sigma[0])\n",
    "pdfs1 = stats.norm.pdf(X[:,1], loc = mu[1],scale=sigma[1])\n",
    "vals = np.logical_and(pdfs0>best_epsilons[0], pdfs1>best_epsilons[1])\n",
    "not_vals = np.logical_not(vals)\n",
    "plt.plot(X[vals,0], X[vals,1], 'g*')\n",
    "plt.plot(X[not_vals,0], X[not_vals,1], 'r*')\n",
    "plt.show()"
   ],
   "metadata": {
    "collapsed": false,
    "pycharm": {
     "name": "#%%\n"
    }
   }
  },
  {
   "cell_type": "code",
   "execution_count": null,
   "outputs": [],
   "source": [],
   "metadata": {
    "collapsed": false,
    "pycharm": {
     "name": "#%%\n"
    }
   }
  }
 ],
 "metadata": {
  "kernelspec": {
   "display_name": "Python 3",
   "language": "python",
   "name": "python3"
  },
  "language_info": {
   "codemirror_mode": {
    "name": "ipython",
    "version": 2
   },
   "file_extension": ".py",
   "mimetype": "text/x-python",
   "name": "python",
   "nbconvert_exporter": "python",
   "pygments_lexer": "ipython2",
   "version": "2.7.6"
  }
 },
 "nbformat": 4,
 "nbformat_minor": 0
}