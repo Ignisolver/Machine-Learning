{
 "cells": [
  {
   "cell_type": "markdown",
   "id": "dbe61c0d",
   "metadata": {},
   "source": [
    "LAB 04 - Klasyfikacja - Ignacy Szkudelski"
   ]
  },
  {
   "cell_type": "code",
   "execution_count": 53,
   "id": "f85abbe9",
   "metadata": {},
   "outputs": [],
   "source": [
    "from sklearn import datasets\n",
    "from sklearn.model_selection import train_test_split\n",
    "from scipy.spatial import distance\n",
    "from sklearn.metrics import accuracy_score\n",
    "import numpy as np"
   ]
  },
  {
   "cell_type": "markdown",
   "id": "d4611288",
   "metadata": {},
   "source": [
    "Ex. 1 - kNN - own implementation\n",
    "\n",
    "Please provide your own implementation of the “K nearest neighbors” algorithm.\n",
    "\n",
    "Task:\n",
    "\n",
    "1. Iris database - please divide into training and test sets\n",
    "2. Find the best value of k for the selected test set (show on the graph change of k and the error - for both the test and training sets)\n",
    "\n",
    "    1. We choose the value of k (np. from 1 to n, where n will be the value for which the algorithm's results will deteriorate again)\n",
    "    2. For each example in the test set, we look for the k observations that are closest to our analyzed example. Use the Eukleidesa distance to determine the distance.\n",
    "    3. The advantage of a given class among the “k” closest neighbors (from the training set) proves that the example belongs to this class.\n",
    "    4. Use the most frequent value of the “k” nearest neighbors“ as the value for an unclassified example.\n",
    "    5. For each case of k, after classifying all examples in the test set, count the error (e.g. the number of examples wrongly classified to the set size) and write the pair (k - error) to collect data for summary graphs."
   ]
  },
  {
   "cell_type": "code",
   "execution_count": 54,
   "id": "2308abd3",
   "metadata": {},
   "outputs": [
    {
     "name": "stdout",
     "output_type": "stream",
     "text": [
      "K = 1: [Error cases, True cases]: [ 2 43], accuracy_score: 0.9555555555555556\n",
      "K = 2: [Error cases, True cases]: [ 2 43], accuracy_score: 0.9555555555555556\n",
      "K = 3: [Error cases, True cases]: [ 2 43], accuracy_score: 0.9555555555555556\n",
      "K = 4: [Error cases, True cases]: [ 5 40], accuracy_score: 0.8888888888888888\n",
      "K = 5: [Error cases, True cases]: [ 4 41], accuracy_score: 0.9111111111111111\n",
      "K = 6: [Error cases, True cases]: [ 5 40], accuracy_score: 0.8888888888888888\n",
      "K = 7: [Error cases, True cases]: [ 5 40], accuracy_score: 0.8888888888888888\n",
      "K = 8: [Error cases, True cases]: [ 6 39], accuracy_score: 0.8666666666666667\n",
      "K = 9: [Error cases, True cases]: [ 6 39], accuracy_score: 0.8666666666666667\n",
      "K = 10: [Error cases, True cases]: [10 35], accuracy_score: 0.7777777777777778\n",
      "K = 11: [Error cases, True cases]: [11 34], accuracy_score: 0.7555555555555555\n",
      "K = 12: [Error cases, True cases]: [12 33], accuracy_score: 0.7333333333333333\n",
      "K = 13: [Error cases, True cases]: [11 34], accuracy_score: 0.7555555555555555\n",
      "K = 14: [Error cases, True cases]: [13 32], accuracy_score: 0.7111111111111111\n",
      "K = 15: [Error cases, True cases]: [13 32], accuracy_score: 0.7111111111111111\n",
      "K = 16: [Error cases, True cases]: [13 32], accuracy_score: 0.7111111111111111\n",
      "K = 17: [Error cases, True cases]: [12 33], accuracy_score: 0.7333333333333333\n",
      "K = 18: [Error cases, True cases]: [14 31], accuracy_score: 0.6888888888888889\n",
      "K = 19: [Error cases, True cases]: [16 29], accuracy_score: 0.6444444444444445\n",
      "K = 20: [Error cases, True cases]: [16 29], accuracy_score: 0.6444444444444445\n"
     ]
    },
    {
     "data": {
      "text/plain": "'\\nOkazało się że modyfikacja metody poprzez zmianę \\nsopsobu obliczania klasy doprowadziła do innych wyników które jednak\\nsą gorsze od algorytmu zaimplementowanego w bibliotece\\n'"
     },
     "execution_count": 54,
     "metadata": {},
     "output_type": "execute_result"
    }
   ],
   "source": [
    "iris = datasets.load_iris()\n",
    " \n",
    "#separate the set for teaching and testing, test_size - percentage share (example 70% for training and 30% for testing)\n",
    "features_train, features_test, labels_train, labels_test = train_test_split(iris.data, iris.target, test_size=0.3)\n",
    "\n",
    "def calc_distances(feature, features):\n",
    "    distances = []\n",
    "    for train_feat in features:\n",
    "            dst = distance.euclidean(train_feat, feature)\n",
    "            distances.append(dst)\n",
    "    return distances\n",
    "\n",
    "def get_nearest_neigtbours_and_distances(distances,labels,k):\n",
    "    dist_lab = list(zip(distances,labels))\n",
    "    dist_lab.sort(key=lambda x: x[0])\n",
    "    return dist_lab[:k]\n",
    "\n",
    "# Użyłem sumy dystansów najbliższych sąsiadów zamiast najczęstszego sąsiada \n",
    "def sum_labels_distances(labels, dist_lab_sorted):\n",
    "    keys = set(labels)\n",
    "    label_values = dict.fromkeys(keys,np.Inf)\n",
    "    for dist_lab in dist_lab_sorted:\n",
    "        if label_values[dist_lab[1]] is np.Inf:\n",
    "            label_values[dist_lab[1]] = 0\n",
    "        label_values[dist_lab[1]] += dist_lab[0]\n",
    "    return label_values\n",
    "        \n",
    "def calc_label(distances,labels,k):\n",
    "    dist_lab_sorted = get_nearest_neigtbours_and_distances(distances,labels,k)\n",
    "    label_values = sum_labels_distances(labels, dist_lab_sorted)\n",
    "    label = min(label_values, key=label_values.get)\n",
    "    return label\n",
    "    \n",
    "            \n",
    "def calc_labels(features_train, features_test, labels_train,k):\n",
    "    predicted_labels = []\n",
    "    for feature in features_test:\n",
    "        distances = calc_distances(feature, features_train)\n",
    "        label = calc_label(distances,labels_train,k)\n",
    "        predicted_labels.append(label)\n",
    "    predicted_labels = np.array(predicted_labels)\n",
    "    return predicted_labels\n",
    "\n",
    "for k in range(1,21):\n",
    "    predicted_labels = calc_labels(features_train, features_test, labels_train,k)\n",
    "    accuracy_tabele = predicted_labels == labels_test\n",
    "    output = accuracy_score(labels_test, predicted_labels)\n",
    "    print(f\"K = {k}: [Error cases, True cases]: {np.bincount(accuracy_tabele)}, accuracy_score: {output}\")\n",
    "\"\"\"\n",
    "Okazało się że modyfikacja metody poprzez zmianę \n",
    "sopsobu obliczania klasy doprowadziła do innych wyników które jednak\n",
    "są gorsze od algorytmu zaimplementowanego w bibliotece\n",
    "\"\"\"\n"
   ]
  },
  {
   "cell_type": "markdown",
   "id": "deaa234c",
   "metadata": {},
   "source": [
    "Ex. 2 - kNN - Python (sklearn)\n",
    "\n",
    "Please solve the above problem using the library sklearn.neighbors.KNeighborsClassifier in order to check the correct implementation of the kNN algorithm\n",
    "Useful libraries and functions:"
   ]
  },
  {
   "cell_type": "code",
   "execution_count": 55,
   "id": "f798a54e",
   "metadata": {},
   "outputs": [
    {
     "name": "stdout",
     "output_type": "stream",
     "text": [
      "K = 1: [Error cases, True cases]: [ 2 43], accuracy_score: 0.9555555555555556\n",
      "K = 2: [Error cases, True cases]: [ 3 42], accuracy_score: 0.9333333333333333\n",
      "K = 3: [Error cases, True cases]: [ 2 43], accuracy_score: 0.9555555555555556\n",
      "K = 4: [Error cases, True cases]: [ 1 44], accuracy_score: 0.9777777777777777\n",
      "K = 5: [Error cases, True cases]: [ 1 44], accuracy_score: 0.9777777777777777\n",
      "K = 6: [Error cases, True cases]: [ 1 44], accuracy_score: 0.9777777777777777\n",
      "K = 7: [Error cases, True cases]: [ 1 44], accuracy_score: 0.9777777777777777\n",
      "K = 8: [Error cases, True cases]: [ 1 44], accuracy_score: 0.9777777777777777\n",
      "K = 9: [Error cases, True cases]: [ 1 44], accuracy_score: 0.9777777777777777\n",
      "K = 10: [Error cases, True cases]: [ 1 44], accuracy_score: 0.9777777777777777\n",
      "K = 11: [Error cases, True cases]: [ 1 44], accuracy_score: 0.9777777777777777\n",
      "K = 12: [Error cases, True cases]: [ 1 44], accuracy_score: 0.9777777777777777\n",
      "K = 13: [Error cases, True cases]: [ 2 43], accuracy_score: 0.9555555555555556\n",
      "K = 14: [Error cases, True cases]: [ 1 44], accuracy_score: 0.9777777777777777\n",
      "K = 15: [Error cases, True cases]: [ 1 44], accuracy_score: 0.9777777777777777\n",
      "K = 16: [Error cases, True cases]: [ 1 44], accuracy_score: 0.9777777777777777\n",
      "K = 17: [Error cases, True cases]: [ 2 43], accuracy_score: 0.9555555555555556\n",
      "K = 18: [Error cases, True cases]: [ 2 43], accuracy_score: 0.9555555555555556\n",
      "K = 19: [Error cases, True cases]: [ 2 43], accuracy_score: 0.9555555555555556\n",
      "K = 20: [Error cases, True cases]: [ 2 43], accuracy_score: 0.9555555555555556\n"
     ]
    }
   ],
   "source": [
    "from sklearn import datasets\n",
    "from sklearn.metrics import accuracy_score\n",
    "from sklearn.model_selection import train_test_split\n",
    "from sklearn.neighbors import KNeighborsClassifier\n",
    "\n",
    "for k in range(1,21):\n",
    "    knc = KNeighborsClassifier(k)\n",
    "    knc.fit(features_train, labels_train)\n",
    "    predicted_labels = knc.predict(features_test)\n",
    "    accuracy_tabele = predicted_labels == labels_test\n",
    "    output = accuracy_score(labels_test, predicted_labels)\n",
    "    print(f\"K = {k}: [Error cases, True cases]: {np.bincount(accuracy_tabele)}, accuracy_score: {output}\")\n",
    "\n"
   ]
  },
  {
   "cell_type": "markdown",
   "source": [
    "Ex.3 - Decision trees"
   ],
   "metadata": {
    "collapsed": false
   }
  },
  {
   "cell_type": "code",
   "execution_count": 56,
   "id": "30ede4b8",
   "metadata": {},
   "outputs": [
    {
     "data": {
      "text/plain": "DecisionTreeClassifier()"
     },
     "execution_count": 56,
     "metadata": {},
     "output_type": "execute_result"
    }
   ],
   "source": [
    "from sklearn.datasets import load_iris\n",
    "from sklearn import tree\n",
    "iris = load_iris()\n",
    "clf = tree.DecisionTreeClassifier()\n",
    "clf.fit(iris.data, iris.target)"
   ]
  },
  {
   "cell_type": "code",
   "execution_count": 57,
   "id": "eb60239a",
   "metadata": {},
   "outputs": [
    {
     "data": {
      "text/plain": "array([0])"
     },
     "execution_count": 57,
     "metadata": {},
     "output_type": "execute_result"
    }
   ],
   "source": [
    "clf.predict(iris.data[:1, :])"
   ]
  },
  {
   "cell_type": "code",
   "execution_count": 58,
   "id": "0245cceb",
   "metadata": {},
   "outputs": [
    {
     "data": {
      "text/plain": "array([[1., 0., 0.]])"
     },
     "execution_count": 58,
     "metadata": {},
     "output_type": "execute_result"
    }
   ],
   "source": [
    "clf.predict_proba(iris.data[:1, :])"
   ]
  },
  {
   "cell_type": "code",
   "execution_count": 59,
   "outputs": [],
   "source": [
    "from six import StringIO  \n",
    "import pydot \n",
    "dot_data = StringIO() \n",
    "tree.export_graphviz(clf, out_file=dot_data) \n",
    "# graph = pydot.graph_from_dot_data(dot_data.getvalue())\n",
    "# graph[0].write_pdf(\"iris.pdf\")\n",
    "# powyższe liniki niestety nie działa - pojawia się błąd z któreym sobie nie poradziłem"
   ],
   "metadata": {
    "collapsed": false,
    "pycharm": {
     "name": "#%%\n"
    }
   }
  },
  {
   "cell_type": "markdown",
   "id": "5e6a9d13",
   "metadata": {
    "pycharm": {
     "name": "#%% md\n"
    }
   },
   "source": [
    "Exercise"
   ]
  },
  {
   "cell_type": "code",
   "execution_count": 60,
   "outputs": [],
   "source": [
    "# -*- coding: utf-8 -*-\n",
    "import matplotlib.pyplot as plt\n",
    "import numpy as np\n",
    "from sklearn.metrics import classification_report, confusion_matrix, f1_score\n",
    "from sklearn import tree\n",
    "from sklearn.model_selection import train_test_split\n",
    "from scipy.io import loadmat\n",
    "# wczytywanie danych\n",
    "import my_mnist as mnist\n",
    "\n",
    "# mnist.init()\n",
    "x_train, t_train, x_test, t_test = mnist.load()"
   ],
   "metadata": {
    "collapsed": false,
    "pycharm": {
     "name": "#%%\n"
    }
   }
  },
  {
   "cell_type": "markdown",
   "source": [
    "Ex.1.Divide the data into parameters X and answer y:"
   ],
   "metadata": {
    "collapsed": false,
    "pycharm": {
     "name": "#%% md\n"
    }
   }
  },
  {
   "cell_type": "code",
   "execution_count": 61,
   "outputs": [],
   "source": [
    "X = np.concatenate([x_train,x_test]) #TODO\n",
    "y = np.concatenate([t_train,t_test]) #TODO"
   ],
   "metadata": {
    "collapsed": false,
    "pycharm": {
     "name": "#%%\n"
    }
   }
  },
  {
   "cell_type": "code",
   "execution_count": 62,
   "outputs": [],
   "source": [
    "# Standardization\n",
    "for i in range(X.shape[0]):\n",
    "    X[i,:] = X[i,:]/np.std(X[i,:])\n",
    "\n",
    "# Convert digit 10 -> 0 (error in the dataset)\n",
    "y[np.where(y==10)]=0\n",
    "\n",
    "# the height and width of the picture with the number\n",
    "h = 28\n",
    "w = 28"
   ],
   "metadata": {
    "collapsed": false,
    "pycharm": {
     "name": "#%%\n"
    }
   }
  },
  {
   "cell_type": "code",
   "execution_count": 63,
   "outputs": [],
   "source": [
    "# Ex 2. Please display the number of digits and the number of pixels per image"
   ],
   "metadata": {
    "collapsed": false,
    "pycharm": {
     "name": "#%%\n"
    }
   }
  },
  {
   "cell_type": "code",
   "execution_count": 64,
   "outputs": [
    {
     "data": {
      "text/plain": "'digits nr: 70000,  pixels: 784'"
     },
     "execution_count": 64,
     "metadata": {},
     "output_type": "execute_result"
    }
   ],
   "source": [
    "\"digits nr: {},  pixels: {}\".format(*X.shape)"
   ],
   "metadata": {
    "collapsed": false,
    "pycharm": {
     "name": "#%%\n"
    }
   }
  },
  {
   "cell_type": "code",
   "execution_count": 65,
   "id": "bf98b41e",
   "metadata": {},
   "outputs": [
    {
     "data": {
      "text/plain": "<Figure size 518.4x518.4 with 12 Axes>",
      "image/png": "[encoded data removed]"
     },
     "metadata": {},
     "output_type": "display_data"
    }
   ],
   "source": [
    "def plot_mnist(images, titles, h, w, n_row=3, n_col=4):\n",
    "    plt.figure(figsize=(1.8 * n_col, 2.4 * n_row))\n",
    "    plt.subplots_adjust(bottom=0, left=.01, right=.99, top=.90, hspace=.05)\n",
    "    for i in range(n_row * n_col):\n",
    "        plt.subplot(n_row, n_col, i + 1)\n",
    "        plt.imshow(images[i].reshape((h, w)).T, cmap=plt.cm.gray)\n",
    "        plt.title(titles[i], size=12)\n",
    "        plt.xticks(())\n",
    "        plt.yticks(())\n",
    "plot_mnist(X, y, h, w, n_row=3, n_col=4)"
   ]
  },
  {
   "cell_type": "markdown",
   "id": "6350f3c5",
   "metadata": {},
   "source": [
    "Ex. 3. Please display sample digits from the dataset (function, plot_mnist)."
   ]
  },
  {
   "cell_type": "code",
   "execution_count": 66,
   "outputs": [
    {
     "data": {
      "text/plain": "<Figure size 518.4x518.4 with 12 Axes>",
      "image/png": "[encoded data removed]"
     },
     "metadata": {},
     "output_type": "display_data"
    }
   ],
   "source": [
    "plot_mnist(X, y, h, w, n_row=3, n_col=4)"
   ],
   "metadata": {
    "collapsed": false,
    "pycharm": {
     "name": "#%%\n"
    }
   }
  },
  {
   "cell_type": "markdown",
   "source": [
    "Ex. 4. Please divide the dataset into learner (70%) and training."
   ],
   "metadata": {
    "collapsed": false,
    "pycharm": {
     "name": "#%% md\n"
    }
   }
  },
  {
   "cell_type": "code",
   "execution_count": 67,
   "outputs": [],
   "source": [
    "x_train, x_test, t_train, t_test = train_test_split(X,y,test_size=0.3)"
   ],
   "metadata": {
    "collapsed": false,
    "pycharm": {
     "name": "#%%\n"
    }
   }
  },
  {
   "cell_type": "markdown",
   "source": [
    "Ex. 5. Create an instance of the classifier, then train and predict for test data.\n",
    "Tree parameters:"
   ],
   "metadata": {
    "collapsed": false,
    "pycharm": {
     "name": "#%% md\n"
    }
   }
  },
  {
   "cell_type": "code",
   "execution_count": 68,
   "outputs": [
    {
     "name": "stdout",
     "output_type": "stream",
     "text": [
      "(49000, 784) (49000,)\n"
     ]
    }
   ],
   "source": [
    "print(x_train.shape,t_train.shape)\n",
    "# shapes"
   ],
   "metadata": {
    "collapsed": false,
    "pycharm": {
     "name": "#%%\n"
    }
   }
  },
  {
   "cell_type": "code",
   "execution_count": 69,
   "outputs": [],
   "source": [
    "DEPTH = 10\n",
    "tc = tree.DecisionTreeClassifier(max_depth=DEPTH)\n",
    "tc.fit(x_train, t_train)\n",
    "predict_result = tc.predict(x_test)"
   ],
   "metadata": {
    "collapsed": false,
    "pycharm": {
     "name": "#%%\n"
    }
   }
  },
  {
   "cell_type": "markdown",
   "id": "72ad0b84",
   "metadata": {},
   "source": [
    "Zad 6. Please provide F1 result, confusion matrix and classification report. "
   ]
  },
  {
   "cell_type": "code",
   "execution_count": 71,
   "id": "3a7e482f",
   "metadata": {},
   "outputs": [
    {
     "name": "stdout",
     "output_type": "stream",
     "text": [
      "              precision    recall  f1-score   support\n",
      "\n",
      "           0       0.92      0.90      0.91      2089\n",
      "           1       0.94      0.94      0.94      2362\n",
      "           2       0.79      0.82      0.80      2106\n",
      "           3       0.81      0.76      0.78      2064\n",
      "           4       0.81      0.82      0.81      2075\n",
      "           5       0.71      0.77      0.74      1955\n",
      "           6       0.87      0.89      0.88      2023\n",
      "           7       0.89      0.87      0.88      2167\n",
      "           8       0.83      0.76      0.80      2090\n",
      "           9       0.77      0.78      0.78      2069\n",
      "\n",
      "    accuracy                           0.83     21000\n",
      "   macro avg       0.83      0.83      0.83     21000\n",
      "weighted avg       0.84      0.83      0.83     21000\n",
      "\n",
      "f1 score: 0.8341727733268528\n"
     ]
    },
    {
     "data": {
      "text/plain": "array([[1888,    0,   34,   28,   28,   45,   21,   13,   26,    6],\n       [   2, 2217,   33,   22,   10,   19,   17,   16,   23,    3],\n       [  44,   21, 1729,   41,   34,   29,   51,   48,   88,   21],\n       [  15,   19,   80, 1570,   22,  200,   22,   35,   46,   55],\n       [   7,    9,   38,   14, 1706,   64,   42,   15,   15,  165],\n       [  35,   14,   45,  151,   46, 1513,   44,   21,   47,   39],\n       [  30,    3,   42,    5,   44,   54, 1798,   11,   32,    4],\n       [   2,   18,   66,   25,   31,   25,    3, 1875,   26,   96],\n       [  22,   36,   87,   39,   62,   77,   66,   21, 1595,   85],\n       [   7,   10,   41,   52,  134,  107,   13,   63,   22, 1620]],\n      dtype=int64)"
     },
     "execution_count": 71,
     "metadata": {},
     "output_type": "execute_result"
    }
   ],
   "source": [
    "print(classification_report(t_test,predict_result))\n",
    "\n",
    "# macierz zawiera wpisy ile próbek miało być w klasie o indeksie wiersza a zostało zaklasyfikowanych do klasy o indeksie kolumny\n",
    "print(\"f1 score:\", f1_score(t_test,predict_result,average='weighted'))\n",
    "confusion_matrix(t_test,predict_result)"
   ]
  },
  {
   "cell_type": "code",
   "execution_count": 70,
   "outputs": [],
   "source": [],
   "metadata": {
    "collapsed": false,
    "pycharm": {
     "name": "#%%\n"
    }
   }
  },
  {
   "cell_type": "code",
   "execution_count": 70,
   "outputs": [],
   "source": [],
   "metadata": {
    "collapsed": false,
    "pycharm": {
     "name": "#%%\n"
    }
   }
  }
 ],
 "metadata": {
  "kernelspec": {
   "display_name": "Python 3 (ipykernel)",
   "language": "python",
   "name": "python3"
  },
  "language_info": {
   "codemirror_mode": {
    "name": "ipython",
    "version": 3
   },
   "file_extension": ".py",
   "mimetype": "text/x-python",
   "name": "python",
   "nbconvert_exporter": "python",
   "pygments_lexer": "ipython3",
   "version": "3.9.9"
  }
 },
 "nbformat": 4,
 "nbformat_minor": 5
}