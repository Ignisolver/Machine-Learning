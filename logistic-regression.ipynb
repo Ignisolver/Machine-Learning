{
 "cells": [
  {
   "cell_type": "markdown",
   "id": "b1ebc845",
   "metadata": {},
   "source": [
    "# LOGISTIC REGRESSION"
   ]
  },
  {
   "cell_type": "markdown",
   "id": "ad4eb1e5",
   "metadata": {},
   "source": [
    "#### Ignacy Szkudelski"
   ]
  },
  {
   "cell_type": "markdown",
   "id": "08a3e101",
   "metadata": {},
   "source": [
    "###### Binary logistic regression"
   ]
  },
  {
   "cell_type": "markdown",
   "id": "c8aefc40",
   "metadata": {},
   "source": [
    "###### Ex. 1.: Please follow the steps below: "
   ]
  },
  {
   "cell_type": "markdown",
   "id": "74c22ec3",
   "metadata": {},
   "source": [
    "a) add a column with values '1'\n",
    "\n",
    "b) divide the data into parameters (X) and labels/classes (y)\n",
    "\n",
    "c) data conversion to numpy ( np.array )"
   ]
  },
  {
   "cell_type": "code",
   "execution_count": 1,
   "id": "222419bf",
   "metadata": {
    "scrolled": false
   },
   "outputs": [],
   "source": [
    "import numpy as np\n",
    "import pandas as pd\n",
    "import matplotlib.pyplot as plt\n",
    "from sklearn.model_selection import train_test_split\n",
    "import os\n",
    "path = os.getcwd() + '\\ex2data1.txt'\n",
    "data = pd.read_csv(path, header=None, names=['Exam 1', 'Exam 2', 'Admitted'])"
   ]
  },
  {
   "cell_type": "code",
   "execution_count": 2,
   "id": "00db46c6",
   "metadata": {},
   "outputs": [
    {
     "data": {
      "text/html": [
       "<div>\n",
       "<style scoped>\n",
       "    .dataframe tbody tr th:only-of-type {\n",
       "        vertical-align: middle;\n",
       "    }\n",
       "\n",
       "    .dataframe tbody tr th {\n",
       "        vertical-align: top;\n",
       "    }\n",
       "\n",
       "    .dataframe thead th {\n",
       "        text-align: right;\n",
       "    }\n",
       "</style>\n",
       "<table border=\"1\" class=\"dataframe\">\n",
       "  <thead>\n",
       "    <tr style=\"text-align: right;\">\n",
       "      <th></th>\n",
       "      <th>Exam 1</th>\n",
       "      <th>Exam 2</th>\n",
       "      <th>Admitted</th>\n",
       "    </tr>\n",
       "  </thead>\n",
       "  <tbody>\n",
       "    <tr>\n",
       "      <th>0</th>\n",
       "      <td>34.623660</td>\n",
       "      <td>78.024693</td>\n",
       "      <td>0</td>\n",
       "    </tr>\n",
       "    <tr>\n",
       "      <th>1</th>\n",
       "      <td>30.286711</td>\n",
       "      <td>43.894998</td>\n",
       "      <td>0</td>\n",
       "    </tr>\n",
       "    <tr>\n",
       "      <th>2</th>\n",
       "      <td>35.847409</td>\n",
       "      <td>72.902198</td>\n",
       "      <td>0</td>\n",
       "    </tr>\n",
       "    <tr>\n",
       "      <th>3</th>\n",
       "      <td>60.182599</td>\n",
       "      <td>86.308552</td>\n",
       "      <td>1</td>\n",
       "    </tr>\n",
       "    <tr>\n",
       "      <th>4</th>\n",
       "      <td>79.032736</td>\n",
       "      <td>75.344376</td>\n",
       "      <td>1</td>\n",
       "    </tr>\n",
       "    <tr>\n",
       "      <th>...</th>\n",
       "      <td>...</td>\n",
       "      <td>...</td>\n",
       "      <td>...</td>\n",
       "    </tr>\n",
       "    <tr>\n",
       "      <th>95</th>\n",
       "      <td>83.489163</td>\n",
       "      <td>48.380286</td>\n",
       "      <td>1</td>\n",
       "    </tr>\n",
       "    <tr>\n",
       "      <th>96</th>\n",
       "      <td>42.261701</td>\n",
       "      <td>87.103851</td>\n",
       "      <td>1</td>\n",
       "    </tr>\n",
       "    <tr>\n",
       "      <th>97</th>\n",
       "      <td>99.315009</td>\n",
       "      <td>68.775409</td>\n",
       "      <td>1</td>\n",
       "    </tr>\n",
       "    <tr>\n",
       "      <th>98</th>\n",
       "      <td>55.340018</td>\n",
       "      <td>64.931938</td>\n",
       "      <td>1</td>\n",
       "    </tr>\n",
       "    <tr>\n",
       "      <th>99</th>\n",
       "      <td>74.775893</td>\n",
       "      <td>89.529813</td>\n",
       "      <td>1</td>\n",
       "    </tr>\n",
       "  </tbody>\n",
       "</table>\n",
       "<p>100 rows × 3 columns</p>\n",
       "</div>"
      ],
      "text/plain": [
       "       Exam 1     Exam 2  Admitted\n",
       "0   34.623660  78.024693         0\n",
       "1   30.286711  43.894998         0\n",
       "2   35.847409  72.902198         0\n",
       "3   60.182599  86.308552         1\n",
       "4   79.032736  75.344376         1\n",
       "..        ...        ...       ...\n",
       "95  83.489163  48.380286         1\n",
       "96  42.261701  87.103851         1\n",
       "97  99.315009  68.775409         1\n",
       "98  55.340018  64.931938         1\n",
       "99  74.775893  89.529813         1\n",
       "\n",
       "[100 rows x 3 columns]"
      ]
     },
     "execution_count": 2,
     "metadata": {},
     "output_type": "execute_result"
    }
   ],
   "source": [
    "data"
   ]
  },
  {
   "cell_type": "code",
   "execution_count": 3,
   "id": "5c049a44",
   "metadata": {},
   "outputs": [],
   "source": [
    "X_pd = data[[\"Exam 1\", 'Exam 2']]\n",
    "y_pd = data[\"Admitted\"]\n",
    "X_pd = X_pd-X_pd.mean(axis=0)\n",
    "X_pd = X_pd/X_pd.std(axis=0)\n",
    "X_pd.insert(0,\"Ones\", 1)\n",
    "\n",
    "X = np.array(X_pd)\n",
    "y = np.array(y_pd)"
   ]
  },
  {
   "cell_type": "markdown",
   "id": "279f084a",
   "metadata": {},
   "source": [
    "###### Ex. 2.: Please plot the loaded data in the graph (using scatter plot). Can be both: a 2D plot with marks colored regarding to the class or a 3D plot with the class showed as 3rd dimension."
   ]
  },
  {
   "cell_type": "code",
   "execution_count": 4,
   "id": "f986e483",
   "metadata": {},
   "outputs": [
    {
     "data": {
      "text/plain": [
       "[<matplotlib.lines.Line2D at 0x1f642e53dc0>]"
      ]
     },
     "execution_count": 4,
     "metadata": {},
     "output_type": "execute_result"
    },
    {
     "data": {
      "image/png": "[encoded data removed]",
      "text/plain": [
       "<Figure size 432x288 with 1 Axes>"
      ]
     },
     "metadata": {
      "needs_background": "light"
     },
     "output_type": "display_data"
    }
   ],
   "source": [
    "xy_a = data[[\"Exam 1\", \"Exam 2\"]].where(data[\"Admitted\"]==1)\n",
    "xy_na = data[[\"Exam 1\", \"Exam 2\"]].where(data[\"Admitted\"]==0)\n",
    "\n",
    "plt.plot(xy_a[\"Exam 1\"],xy_a[\"Exam 2\"],'r+')\n",
    "plt.plot(xy_na[\"Exam 1\"],xy_na[\"Exam 2\"],'g*')"
   ]
  },
  {
   "cell_type": "markdown",
   "id": "30287b54",
   "metadata": {},
   "source": [
    "###### Ex. 3.Please implement a logistic function (sigmoid):"
   ]
  },
  {
   "cell_type": "code",
   "execution_count": 5,
   "id": "b83d5d73",
   "metadata": {},
   "outputs": [],
   "source": [
    "def sig(t):\n",
    "    return 1 / (1 + np.exp(-t))"
   ]
  },
  {
   "cell_type": "markdown",
   "id": "47c6669e",
   "metadata": {},
   "source": [
    "###### Ex. 4 Using the function np.arange or np.linspace, please generate data from the range [-5.5], step 0.5 and check the correct operation of the implemented function by plotting it. "
   ]
  },
  {
   "cell_type": "code",
   "execution_count": 6,
   "id": "55dd6fc4",
   "metadata": {},
   "outputs": [
    {
     "data": {
      "text/plain": [
       "[<matplotlib.lines.Line2D at 0x1f644f74d90>]"
      ]
     },
     "execution_count": 6,
     "metadata": {},
     "output_type": "execute_result"
    },
    {
     "data": {
      "image/png": "[encoded data removed]",
      "text/plain": [
       "<Figure size 432x288 with 1 Axes>"
      ]
     },
     "metadata": {
      "needs_background": "light"
     },
     "output_type": "display_data"
    }
   ],
   "source": [
    "xs = np.linspace(-5,5,int(10/0.5))\n",
    "ys = sig(xs)\n",
    "plt.plot(xs,ys)\n"
   ]
  },
  {
   "cell_type": "markdown",
   "id": "a810999a",
   "metadata": {},
   "source": [
    "###### Ex. 5. Based on the above formulas, please implement the cost function J (recommended vectorized solution):"
   ]
  },
  {
   "cell_type": "code",
   "execution_count": 7,
   "id": "58af10fe",
   "metadata": {},
   "outputs": [
    {
     "data": {
      "text/plain": [
       "0.6931471805599453"
      ]
     },
     "execution_count": 7,
     "metadata": {},
     "output_type": "execute_result"
    }
   ],
   "source": [
    "def cost(theta, X, y):\n",
    "    m = X.shape[0]\n",
    "    s = sig(np.dot(X,theta))\n",
    "    a = np.dot(-y.T,np.log(s))\n",
    "    b = np.dot(-(1-y).T,np.log(1-s))\n",
    "    j = np.sum(a+b)/m\n",
    "    return j\n",
    "\n",
    "theta = np.zeros(3)\n",
    "cost(theta, X, y)"
   ]
  },
  {
   "cell_type": "markdown",
   "id": "05f5ae8e",
   "metadata": {},
   "source": [
    "###### Ex. 6.: Please implement simple gradient function:"
   ]
  },
  {
   "cell_type": "code",
   "execution_count": 8,
   "id": "3863445e",
   "metadata": {},
   "outputs": [],
   "source": [
    "def calc_h(theta,x):\n",
    "    res = sig(np.dot(x,theta)) \n",
    "    return res\n",
    "    \n",
    "def simple_gradient_helper(X, y, theta, alpha,):\n",
    "    m = X.shape[0]\n",
    "    a = calc_h(theta, X)-y\n",
    "    dj = np.dot(X.T,a)/m\n",
    "    curr_theta = theta - alpha*dj\n",
    "    curr_cost = cost(curr_theta, X, y)\n",
    "    return curr_theta, curr_cost\n",
    "\n",
    "def simple_gradient(X, y, theta, alpha, it):\n",
    "    _, curr_cost = simple_gradient_helper(X, y, theta, alpha)\n",
    "    costs = [curr_cost]\n",
    "    thetas = [theta]\n",
    "    for _ in range(it):\n",
    "        curr_theta, curr_cost = simple_gradient_helper(X, y, thetas[-1], alpha)\n",
    "        costs.append(curr_cost)\n",
    "        thetas.append(curr_theta)\n",
    "    return thetas, costs"
   ]
  },
  {
   "cell_type": "code",
   "execution_count": 9,
   "id": "f7f2c933",
   "metadata": {},
   "outputs": [
    {
     "name": "stdout",
     "output_type": "stream",
     "text": [
      "thetas: [1.41682812 3.36988187 3.122184  ] | cost: 0.20647054423182587\n"
     ]
    }
   ],
   "source": [
    "alpha = 1\n",
    "it = 150\n",
    "theta = np.zeros(3)\n",
    "thetas, costs = simple_gradient(X, y, theta, alpha, it)\n",
    "res_theta = thetas[-1]\n",
    "res_cost = costs[-1]\n",
    "print(\"thetas:\", thetas[-1], \"| cost:\", costs[-1])"
   ]
  },
  {
   "cell_type": "markdown",
   "id": "b0537d33",
   "metadata": {},
   "source": [
    "###### Ex. 7.: Please present the accuracy of the algorithm performance. Prediction values will be in the range [0; 1]. Threshold value = 0.5. "
   ]
  },
  {
   "cell_type": "code",
   "execution_count": 10,
   "id": "59c843d0",
   "metadata": {},
   "outputs": [
    {
     "name": "stdout",
     "output_type": "stream",
     "text": [
      "accuracy is: 0.89 %\n"
     ]
    }
   ],
   "source": [
    "accuracy_tabele = (calc_h(res_theta,X)>0.5) == (y==1)\n",
    "false, true = np.bincount(accuracy_tabele)\n",
    "print(\"accuracy is:\", true/(true+false),'%')"
   ]
  },
  {
   "cell_type": "markdown",
   "id": "3a3ce36f",
   "metadata": {},
   "source": [
    "###### Ex. 8.: [Extra task] Please plot the decision boundary (as a line x2=mx1+c) on the data plot. If you have normalized your data you should use normalized data as background. "
   ]
  },
  {
   "cell_type": "code",
   "execution_count": 11,
   "id": "f4f25fc7",
   "metadata": {},
   "outputs": [],
   "source": [
    "# przykro mi ale pozosrtała część zadania zajęła mi za dużo czasu"
   ]
  },
  {
   "cell_type": "markdown",
   "id": "7d80e9ac",
   "metadata": {},
   "source": [
    "## Logistic regression - Python"
   ]
  },
  {
   "cell_type": "code",
   "execution_count": 23,
   "id": "acd5363a",
   "metadata": {},
   "outputs": [],
   "source": [
    "import numpy as np\n",
    "import matplotlib.pyplot as plt\n",
    "from sklearn.linear_model import LogisticRegression\n",
    "from sklearn import datasets\n",
    " \n",
    "iris = datasets.load_iris()\n",
    "X = iris.data[:, :2]  # we are analyzing only 2 parameters\n",
    "Y = iris.target"
   ]
  },
  {
   "cell_type": "markdown",
   "id": "ef66cf31",
   "metadata": {},
   "source": [
    "###### Ex. 1.: Get yourself familiar with the object sklearn.linear_model.LogisticRegression and choose appropriate optimalization algorithm, regularization coefficient and create a regression model."
   ]
  },
  {
   "cell_type": "code",
   "execution_count": 24,
   "id": "8312513e",
   "metadata": {},
   "outputs": [],
   "source": [
    "regr = LogisticRegression(C = 0.8,n_jobs=-1, solver='lbfgs',max_iter=150,verbose=1)"
   ]
  },
  {
   "cell_type": "markdown",
   "id": "a1b0f08b",
   "metadata": {},
   "source": [
    "###### Ex. 2.: Create an instance and fit the data using fit method."
   ]
  },
  {
   "cell_type": "code",
   "execution_count": 25,
   "id": "c3569e10",
   "metadata": {},
   "outputs": [
    {
     "name": "stderr",
     "output_type": "stream",
     "text": [
      "[Parallel(n_jobs=-1)]: Using backend LokyBackend with 4 concurrent workers.\n",
      "[Parallel(n_jobs=-1)]: Done   1 out of   1 | elapsed:    0.3s finished\n"
     ]
    },
    {
     "data": {
      "text/plain": [
       "LogisticRegression(C=0.8, max_iter=150, n_jobs=-1, verbose=1)"
      ]
     },
     "execution_count": 25,
     "metadata": {},
     "output_type": "execute_result"
    }
   ],
   "source": [
    "from sklearn.model_selection import train_test_split\n",
    "X -= X.mean(axis=0)\n",
    "X /= X.std(axis=0)\n",
    "# Z jakiegoś powodu uniemożliwia to wykonane fit-a\n",
    "x_train, x_test, y_train, y_test = train_test_split(X, Y,test_size=0.3)\n",
    "regr.fit(x_train,y_train)\n"
   ]
  },
  {
   "cell_type": "code",
   "execution_count": 26,
   "id": "085e2fdd",
   "metadata": {},
   "outputs": [
    {
     "name": "stderr",
     "output_type": "stream",
     "text": [
      "C:\\Users\\ignsz\\AppData\\Local\\Temp\\ipykernel_1760\\3187438195.py:12: MatplotlibDeprecationWarning: shading='flat' when X and Y have the same dimensions as C is deprecated since 3.3.  Either specify the corners of the quadrilaterals with X and Y, or pass shading='auto', 'nearest' or 'gouraud', or set rcParams['pcolor.shading'].  This will become an error two minor releases later.\n",
      "  plt.pcolormesh(xx, yy, Z, cmap=plt.cm.Paired)\n"
     ]
    },
    {
     "data": {
      "image/png": "[encoded data removed]",
      "text/plain": [
       "<Figure size 288x216 with 1 Axes>"
      ]
     },
     "metadata": {},
     "output_type": "display_data"
    }
   ],
   "source": [
    "# Plot the decision boundary. For that, we will assign a color to each\n",
    "# point in the mesh [x_min, x_max]x[y_min, y_max].\n",
    "x_min, x_max = X[:, 0].min() - .5, X[:, 0].max() + .5\n",
    "y_min, y_max = X[:, 1].min() - .5, X[:, 1].max() + .5\n",
    "h = .02  # step size in the mesh\n",
    "xx, yy = np.meshgrid(np.arange(x_min, x_max, h), np.arange(y_min, y_max, h))\n",
    "Z = regr.predict(np.c_[xx.ravel(), yy.ravel()])\n",
    " \n",
    "# Put the result into a color plot\n",
    "Z = Z.reshape(xx.shape)\n",
    "plt.figure(1, figsize=(4, 3))\n",
    "plt.pcolormesh(xx, yy, Z, cmap=plt.cm.Paired)\n",
    " \n",
    "# Plot also the training points\n",
    "plt.scatter(X[:, 0], X[:, 1], c=Y, edgecolors='k', cmap=plt.cm.Paired)\n",
    "plt.xlabel('Sepal length')\n",
    "plt.ylabel('Sepal width')\n",
    " \n",
    "plt.xlim(xx.min(), xx.max())\n",
    "plt.ylim(yy.min(), yy.max())\n",
    "plt.xticks(())\n",
    "plt.yticks(())\n",
    " \n",
    "plt.show()"
   ]
  },
  {
   "cell_type": "markdown",
   "id": "eb295044",
   "metadata": {},
   "source": [
    "###### Ex. 3.: Using method predict_proba please predict the probability of being a member of a given class."
   ]
  },
  {
   "cell_type": "code",
   "execution_count": 27,
   "id": "da73a127",
   "metadata": {},
   "outputs": [
    {
     "name": "stdout",
     "output_type": "stream",
     "text": [
      "        classs 1 prob. | classs 2 prob.| classs 3 prob\n"
     ]
    },
    {
     "data": {
      "text/plain": [
       "array([[2.16477773e-01, 5.49784678e-01, 2.33737549e-01],\n",
       "       [9.65923343e-01, 3.20741911e-02, 2.00246597e-03],\n",
       "       [3.07615031e-03, 3.94869409e-01, 6.02054441e-01],\n",
       "       [8.48005155e-04, 2.96151249e-01, 7.03000746e-01],\n",
       "       [9.71838392e-01, 2.01431576e-02, 8.01845062e-03],\n",
       "       [1.50690587e-01, 7.20385356e-01, 1.28924057e-01],\n",
       "       [2.99857666e-03, 4.36818456e-01, 5.60182968e-01],\n",
       "       [9.61839112e-01, 3.46198693e-02, 3.54101863e-03],\n",
       "       [1.40410679e-04, 1.64109673e-01, 8.35749917e-01],\n",
       "       [1.42787207e-05, 1.00418051e-01, 8.99567670e-01],\n",
       "       [9.46786842e-01, 4.75734796e-02, 5.63967858e-03],\n",
       "       [4.92607746e-03, 3.09911577e-01, 6.85162345e-01],\n",
       "       [9.85145976e-01, 1.18903475e-02, 2.96367657e-03],\n",
       "       [1.60433107e-03, 6.14142230e-01, 3.84253439e-01],\n",
       "       [4.76290976e-03, 1.59187692e-01, 8.36049398e-01],\n",
       "       [8.74652157e-01, 7.81389569e-02, 4.72088863e-02],\n",
       "       [9.71838392e-01, 2.01431576e-02, 8.01845062e-03],\n",
       "       [9.38928618e-01, 5.11393520e-02, 9.93202972e-03],\n",
       "       [9.69003346e-01, 2.70812368e-02, 3.91541670e-03],\n",
       "       [9.52644122e-01, 4.41604465e-02, 3.19543168e-03],\n",
       "       [9.44219696e-01, 4.53164430e-02, 1.04638609e-02],\n",
       "       [3.00534180e-02, 6.71245371e-01, 2.98701211e-01],\n",
       "       [7.45169992e-03, 3.81102761e-01, 6.11445539e-01],\n",
       "       [3.21610058e-02, 6.32961315e-01, 3.34877679e-01],\n",
       "       [2.51109174e-02, 8.58221948e-01, 1.16667134e-01],\n",
       "       [3.42277841e-05, 9.59051829e-02, 9.04060589e-01],\n",
       "       [2.44952447e-02, 5.22563734e-01, 4.52941021e-01],\n",
       "       [8.33994596e-01, 1.46833399e-01, 1.91720046e-02],\n",
       "       [2.07205308e-02, 6.46067687e-01, 3.33211782e-01],\n",
       "       [9.85145976e-01, 1.18903475e-02, 2.96367657e-03],\n",
       "       [2.16477773e-01, 5.49784678e-01, 2.33737549e-01],\n",
       "       [9.94472023e-01, 4.21393123e-03, 1.31404569e-03],\n",
       "       [3.21610058e-02, 6.32961315e-01, 3.34877679e-01],\n",
       "       [3.78236256e-02, 5.09320365e-01, 4.52856010e-01],\n",
       "       [9.06926475e-01, 7.82572034e-02, 1.48163220e-02],\n",
       "       [2.71311921e-02, 3.96010501e-01, 5.76858307e-01],\n",
       "       [7.27781029e-04, 5.42944108e-01, 4.56328111e-01],\n",
       "       [5.95515202e-06, 1.05117384e-01, 8.94876661e-01],\n",
       "       [8.01090596e-02, 5.53515890e-01, 3.66375050e-01],\n",
       "       [2.05032493e-03, 2.51384608e-01, 7.46565067e-01],\n",
       "       [9.46786842e-01, 4.75734796e-02, 5.63967858e-03],\n",
       "       [2.57594098e-02, 7.40974244e-01, 2.33266346e-01],\n",
       "       [8.60633335e-01, 1.17652188e-01, 2.17144776e-02],\n",
       "       [9.60404236e-01, 3.30177224e-02, 6.57804147e-03],\n",
       "       [1.50117689e-02, 5.75783005e-01, 4.09205226e-01]])"
      ]
     },
     "execution_count": 27,
     "metadata": {},
     "output_type": "execute_result"
    }
   ],
   "source": [
    "pred_y = regr.predict_proba(x_test)\n",
    "pred_y\n",
    "np.argmax(pred_y,axis=1)\n",
    "y_proc = np.zeros(pred_y.shape)\n",
    "for i1,i2 in enumerate(y_test):\n",
    "    y_proc[i1][i2] = 1.0\n",
    "print(\"        classs 1 prob. | classs 2 prob.| classs 3 prob\"  )  \n",
    "pred_y"
   ]
  },
  {
   "cell_type": "markdown",
   "id": "fc7dcc27",
   "metadata": {},
   "source": [
    "###### Ex. 4.: Evaluation - please assess the accuracy of the algorithms using a variety of metrics (at least 2)."
   ]
  },
  {
   "cell_type": "code",
   "execution_count": 28,
   "id": "f0f836a9",
   "metadata": {},
   "outputs": [
    {
     "name": "stdout",
     "output_type": "stream",
     "text": [
      "Błąd syumaryczny:  23.36328942633773 | Średni (geometrycznie) błąd:  3.148230736612115\n"
     ]
    }
   ],
   "source": [
    "# podejście 1 - różnica prawdopodobieństw dla każdej próbki i kazdej klasy\n",
    "m1 = np.sum(np.abs(pred_y-y_proc))\n",
    "m2 = np.sqrt(np.sum(np.square(pred_y-y_proc)))\n",
    "print(\"Błąd syumaryczny: \", m1, \"| Średni (geometrycznie) błąd: \", m2)"
   ]
  },
  {
   "cell_type": "code",
   "execution_count": 29,
   "id": "435fe5c4",
   "metadata": {},
   "outputs": [
    {
     "name": "stdout",
     "output_type": "stream",
     "text": [
      "accuracy is: 0.8444444444444444 %\n"
     ]
    }
   ],
   "source": [
    "# podejście 2 - poprawność kwalifikacji do danej klasy na podsawie transhold = 0.5\n",
    "transhold = 0.5\n",
    "y_classes = np.zeros(pred_y.shape[0])\n",
    "oks = np.zeros(pred_y.shape[0])\n",
    "for ind, el in enumerate(pred_y>0.5):\n",
    "    false_true = np.bincount(el)\n",
    "    if len(false_true) != 2:\n",
    "        oks[ind] = -1\n",
    "        continue\n",
    "    t_ind = None\n",
    "    for nr, val in enumerate(el):\n",
    "        if val:\n",
    "            t_ind = nr\n",
    "            break\n",
    "    oks[ind] = t_ind\n",
    "false, true = np.bincount(oks == y_test)\n",
    "print(\"accuracy is:\", true/(true+false),'%')"
   ]
  }
 ],
 "metadata": {
  "kernelspec": {
   "display_name": "Python 3 (ipykernel)",
   "language": "python",
   "name": "python3"
  },
  "language_info": {
   "codemirror_mode": {
    "name": "ipython",
    "version": 3
   },
   "file_extension": ".py",
   "mimetype": "text/x-python",
   "name": "python",
   "nbconvert_exporter": "python",
   "pygments_lexer": "ipython3",
   "version": "3.9.6"
  }
 },
 "nbformat": 4,
 "nbformat_minor": 5
}
