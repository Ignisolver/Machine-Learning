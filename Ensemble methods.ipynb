{
 "cells": [
  {
   "cell_type": "code",
   "execution_count": 14,
   "outputs": [],
   "source": [
    "import matplotlib.pyplot as plt\n",
    "from sklearn.datasets import load_wine\n",
    "all = load_wine()"
   ],
   "metadata": {
    "collapsed": false,
    "pycharm": {
     "name": "#%%\n"
    }
   }
  },
  {
   "cell_type": "code",
   "execution_count": 15,
   "outputs": [],
   "source": [
    "data = all[\"data\"]\n",
    "target = all[\"target\"]"
   ],
   "metadata": {
    "collapsed": false,
    "pycharm": {
     "name": "#%%\n"
    }
   }
  },
  {
   "cell_type": "code",
   "execution_count": 16,
   "outputs": [],
   "source": [
    "from sklearn.tree import DecisionTreeClassifier as DTC\n",
    "from sklearn.ensemble import BaggingClassifier as BC, AdaBoostClassifier as ABC, GradientBoostingClassifier as GBC"
   ],
   "metadata": {
    "collapsed": false,
    "pycharm": {
     "name": "#%%\n"
    }
   }
  },
  {
   "cell_type": "code",
   "execution_count": 32,
   "outputs": [],
   "source": [
    "dtc = DTC(min_samples_leaf=3,random_state=1, max_depth=1)\n",
    "bc = BC(random_state=1, n_estimators=80, base_estimator=dtc)\n",
    "abc = ABC(random_state=1, n_estimators=80, algorithm=\"SAMME\", base_estimator=dtc)\n",
    "gbc = GBC(min_samples_leaf=1, random_state=1, n_estimators=80, max_depth=1, learning_rate=1.0, subsample=0.5)"
   ],
   "metadata": {
    "collapsed": false,
    "pycharm": {
     "name": "#%%\n"
    }
   }
  },
  {
   "cell_type": "code",
   "execution_count": 39,
   "outputs": [
    {
     "name": "stdout",
     "output_type": "stream",
     "text": [
      "DecisionTreeClassifier : [0.69444444 0.69444444 0.61111111 0.6        0.6       ] avg: 0.64\n",
      "BaggingClassifier : [0.88888889 0.94444444 0.91666667 0.8        0.85714286] avg: 0.8814285714285713\n",
      "AdaBoostClassifier : [0.97222222 0.91666667 0.97222222 0.97142857 1.        ] avg: 0.9665079365079364\n",
      "GradientBoostingClassifier : [1.         0.97222222 0.94444444 0.97142857 1.        ] avg: 0.9776190476190477\n"
     ]
    }
   ],
   "source": [
    "from sklearn.model_selection import cross_val_score, StratifiedKFold\n",
    "sff = StratifiedKFold(n_splits=5, shuffle=True, random_state=1)\n",
    "estimators = [dtc, bc, abc, gbc]\n",
    "names = [\"DecisionTreeClassifier\", \"BaggingClassifier\", \"AdaBoostClassifier\", \"GradientBoostingClassifier\"]\n",
    "predictions = []\n",
    "for name, estimator in zip(names,estimators):\n",
    "    estimator.fit(data, target)\n",
    "    score = cross_val_score(estimator,data,target, cv=sff)\n",
    "    print(name, \":\", score, 'avg:', score.mean())"
   ],
   "metadata": {
    "collapsed": false,
    "pycharm": {
     "name": "#%%\n"
    }
   }
  },
  {
   "cell_type": "code",
   "execution_count": 37,
   "outputs": [
    {
     "data": {
      "text/plain": "<Figure size 432x288 with 1 Axes>",
      "image/png": "[encoded data removed]"
     },
     "metadata": {
      "needs_background": "light"
     },
     "output_type": "display_data"
    }
   ],
   "source": [
    "from numpy import cumsum\n",
    "from matplotlib import pyplot as plt\n",
    "gbc.fit(data,target)\n",
    "cum_sum_res =cumsum(gbc.oob_improvement_)\n",
    "plt.plot(cum_sum_res[0:30])\n",
    "plt.grid()"
   ],
   "metadata": {
    "collapsed": false,
    "pycharm": {
     "name": "#%%\n"
    }
   }
  },
  {
   "cell_type": "markdown",
   "source": [
    "Wybrana ilość po której dalsze poprawy są nieznaczące to 4"
   ],
   "metadata": {
    "collapsed": false,
    "pycharm": {
     "name": "#%% md\n"
    }
   }
  }
 ],
 "metadata": {
  "kernelspec": {
   "display_name": "Python 3",
   "language": "python",
   "name": "python3"
  },
  "language_info": {
   "codemirror_mode": {
    "name": "ipython",
    "version": 2
   },
   "file_extension": ".py",
   "mimetype": "text/x-python",
   "name": "python",
   "nbconvert_exporter": "python",
   "pygments_lexer": "ipython2",
   "version": "2.7.6"
  }
 },
 "nbformat": 4,
 "nbformat_minor": 0
}